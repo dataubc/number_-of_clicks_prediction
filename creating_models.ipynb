{
 "cells": [
  {
   "cell_type": "markdown",
   "metadata": {},
   "source": [
    "### Number of clicks prediction\n",
    "---"
   ]
  },
  {
   "cell_type": "code",
   "execution_count": 352,
   "metadata": {},
   "outputs": [],
   "source": [
    "import pandas as pd\n",
    "import numpy as np\n",
    "import requests\n",
    "from io import StringIO\n",
    "\n",
    "import matplotlib.pyplot as plt\n",
    "from sklearn.model_selection import train_test_split, GridSearchCV, RandomizedSearchCV\n",
    "from sklearn.ensemble import RandomForestClassifier, AdaBoostRegressor,  BaggingRegressor, ExtraTreesRegressor, GradientBoostingRegressor, RandomForestRegressor\n",
    "from sklearn.preprocessing import OneHotEncoder, StandardScaler, MaxAbsScaler,MinMaxScaler,PowerTransformer\n",
    "from sklearn.compose import ColumnTransformer\n",
    "from sklearn.pipeline import Pipeline\n",
    "from sklearn.impute import SimpleImputer\n",
    "from sklearn.metrics import mean_squared_error\n",
    "from sklearn.base import clone, TransformerMixin\n",
    "from sklearn.model_selection import KFold\n",
    "import time\n",
    "import pickle\n",
    "from pandas.plotting import scatter_matrix\n",
    "from sklearn.linear_model import Ridge\n",
    "from sklearn.linear_model import RidgeCV\n",
    "from sklearn.neighbors import KNeighborsRegressor\n",
    "from sklearn.preprocessing import PolynomialFeatures\n",
    "from sklearn.linear_model import SGDRegressor\n",
    "import xgboost\n",
    "from xgboost import XGBRegressor\n",
    "from sklearn.model_selection import RepeatedStratifiedKFold\n",
    "\n",
    "\n",
    "\n"
   ]
  },
  {
   "cell_type": "code",
   "execution_count": 353,
   "metadata": {},
   "outputs": [],
   "source": [
    "def loading_data(file_url):\n",
    "    \"\"\"\n",
    "    Reading data from a given url\n",
    "    \n",
    "    inputs:\n",
    "    ------\n",
    "    url : link to the data\n",
    "    returns\n",
    "    -----:\n",
    "    data : data frame  \n",
    "    \"\"\"\n",
    "    \n",
    "    file_id = file_url.split('/')[-2]\n",
    "    dwn_url='https://drive.google.com/uc?export=download&id=' + file_id\n",
    "    url = requests.get(dwn_url).text\n",
    "    csv_raw = StringIO(url)\n",
    "    df = pd.read_csv(csv_raw)\n",
    "    \n",
    "    \n",
    "    return df"
   ]
  },
  {
   "cell_type": "markdown",
   "metadata": {},
   "source": [
    "### Modeling\n",
    "---"
   ]
  },
  {
   "cell_type": "code",
   "execution_count": 230,
   "metadata": {},
   "outputs": [],
   "source": [
    "# First, let's read our cleaned data"
   ]
  },
  {
   "cell_type": "code",
   "execution_count": 405,
   "metadata": {},
   "outputs": [
    {
     "data": {
      "text/html": [
       "<div>\n",
       "<style scoped>\n",
       "    .dataframe tbody tr th:only-of-type {\n",
       "        vertical-align: middle;\n",
       "    }\n",
       "\n",
       "    .dataframe tbody tr th {\n",
       "        vertical-align: top;\n",
       "    }\n",
       "\n",
       "    .dataframe thead th {\n",
       "        text-align: right;\n",
       "    }\n",
       "</style>\n",
       "<table border=\"1\" class=\"dataframe\">\n",
       "  <thead>\n",
       "    <tr style=\"text-align: right;\">\n",
       "      <th></th>\n",
       "      <th>hotel_id</th>\n",
       "      <th>content_score</th>\n",
       "      <th>n_images</th>\n",
       "      <th>distance_to_center</th>\n",
       "      <th>avg_rating</th>\n",
       "      <th>stars</th>\n",
       "      <th>n_reviews</th>\n",
       "      <th>avg_rank</th>\n",
       "      <th>avg_price</th>\n",
       "      <th>avg_saving_percent</th>\n",
       "      <th>n_clicks</th>\n",
       "      <th>count</th>\n",
       "    </tr>\n",
       "  </thead>\n",
       "  <tbody>\n",
       "    <tr>\n",
       "      <th>0</th>\n",
       "      <td>9.767406e+10</td>\n",
       "      <td>70.0</td>\n",
       "      <td>2.0</td>\n",
       "      <td>1199.0</td>\n",
       "      <td>77.0</td>\n",
       "      <td>4.0</td>\n",
       "      <td>861.0</td>\n",
       "      <td>17.550</td>\n",
       "      <td>81.64</td>\n",
       "      <td>18.0</td>\n",
       "      <td>0.0</td>\n",
       "      <td>80.0</td>\n",
       "    </tr>\n",
       "    <tr>\n",
       "      <th>1</th>\n",
       "      <td>9.768889e+10</td>\n",
       "      <td>67.0</td>\n",
       "      <td>3.0</td>\n",
       "      <td>12585.0</td>\n",
       "      <td>90.0</td>\n",
       "      <td>4.0</td>\n",
       "      <td>4371.0</td>\n",
       "      <td>17.383</td>\n",
       "      <td>189.38</td>\n",
       "      <td>28.0</td>\n",
       "      <td>4.0</td>\n",
       "      <td>751.0</td>\n",
       "    </tr>\n",
       "    <tr>\n",
       "      <th>2</th>\n",
       "      <td>9.824279e+10</td>\n",
       "      <td>59.0</td>\n",
       "      <td>8.0</td>\n",
       "      <td>3291.0</td>\n",
       "      <td>73.0</td>\n",
       "      <td>2.0</td>\n",
       "      <td>3084.0</td>\n",
       "      <td>7.000</td>\n",
       "      <td>72.16</td>\n",
       "      <td>2.0</td>\n",
       "      <td>4.0</td>\n",
       "      <td>5.0</td>\n",
       "    </tr>\n",
       "    <tr>\n",
       "      <th>3</th>\n",
       "      <td>9.833438e+10</td>\n",
       "      <td>66.0</td>\n",
       "      <td>1.0</td>\n",
       "      <td>288.0</td>\n",
       "      <td>80.0</td>\n",
       "      <td>0.0</td>\n",
       "      <td>603.0</td>\n",
       "      <td>12.564</td>\n",
       "      <td>173.25</td>\n",
       "      <td>0.0</td>\n",
       "      <td>10.0</td>\n",
       "      <td>73.0</td>\n",
       "    </tr>\n",
       "    <tr>\n",
       "      <th>4</th>\n",
       "      <td>9.839326e+10</td>\n",
       "      <td>58.0</td>\n",
       "      <td>2.0</td>\n",
       "      <td>1249.0</td>\n",
       "      <td>87.0</td>\n",
       "      <td>0.0</td>\n",
       "      <td>1683.0</td>\n",
       "      <td>18.391</td>\n",
       "      <td>96.70</td>\n",
       "      <td>0.0</td>\n",
       "      <td>0.0</td>\n",
       "      <td>68.0</td>\n",
       "    </tr>\n",
       "    <tr>\n",
       "      <th>...</th>\n",
       "      <td>...</td>\n",
       "      <td>...</td>\n",
       "      <td>...</td>\n",
       "      <td>...</td>\n",
       "      <td>...</td>\n",
       "      <td>...</td>\n",
       "      <td>...</td>\n",
       "      <td>...</td>\n",
       "      <td>...</td>\n",
       "      <td>...</td>\n",
       "      <td>...</td>\n",
       "      <td>...</td>\n",
       "    </tr>\n",
       "    <tr>\n",
       "      <th>372925</th>\n",
       "      <td>2.288169e+11</td>\n",
       "      <td>48.0</td>\n",
       "      <td>1.0</td>\n",
       "      <td>469.0</td>\n",
       "      <td>0.0</td>\n",
       "      <td>0.0</td>\n",
       "      <td>0.0</td>\n",
       "      <td>21.000</td>\n",
       "      <td>78.86</td>\n",
       "      <td>0.0</td>\n",
       "      <td>0.0</td>\n",
       "      <td>16.0</td>\n",
       "    </tr>\n",
       "    <tr>\n",
       "      <th>372926</th>\n",
       "      <td>2.289822e+11</td>\n",
       "      <td>42.0</td>\n",
       "      <td>0.0</td>\n",
       "      <td>689.0</td>\n",
       "      <td>83.0</td>\n",
       "      <td>0.0</td>\n",
       "      <td>72.0</td>\n",
       "      <td>14.174</td>\n",
       "      <td>116.56</td>\n",
       "      <td>4.0</td>\n",
       "      <td>0.0</td>\n",
       "      <td>66.0</td>\n",
       "    </tr>\n",
       "    <tr>\n",
       "      <th>372927</th>\n",
       "      <td>2.290205e+11</td>\n",
       "      <td>70.0</td>\n",
       "      <td>1.0</td>\n",
       "      <td>1424.0</td>\n",
       "      <td>0.0</td>\n",
       "      <td>0.0</td>\n",
       "      <td>0.0</td>\n",
       "      <td>16.211</td>\n",
       "      <td>16.11</td>\n",
       "      <td>0.0</td>\n",
       "      <td>4.0</td>\n",
       "      <td>11.0</td>\n",
       "    </tr>\n",
       "    <tr>\n",
       "      <th>372928</th>\n",
       "      <td>2.292421e+11</td>\n",
       "      <td>42.0</td>\n",
       "      <td>0.0</td>\n",
       "      <td>164.0</td>\n",
       "      <td>84.0</td>\n",
       "      <td>0.0</td>\n",
       "      <td>222.0</td>\n",
       "      <td>20.000</td>\n",
       "      <td>253.81</td>\n",
       "      <td>0.0</td>\n",
       "      <td>0.0</td>\n",
       "      <td>5.0</td>\n",
       "    </tr>\n",
       "    <tr>\n",
       "      <th>372929</th>\n",
       "      <td>2.293708e+11</td>\n",
       "      <td>36.0</td>\n",
       "      <td>1.0</td>\n",
       "      <td>0.0</td>\n",
       "      <td>0.0</td>\n",
       "      <td>0.0</td>\n",
       "      <td>0.0</td>\n",
       "      <td>20.387</td>\n",
       "      <td>36.13</td>\n",
       "      <td>0.0</td>\n",
       "      <td>0.0</td>\n",
       "      <td>32.0</td>\n",
       "    </tr>\n",
       "  </tbody>\n",
       "</table>\n",
       "<p>372930 rows × 12 columns</p>\n",
       "</div>"
      ],
      "text/plain": [
       "            hotel_id  content_score  n_images  distance_to_center  avg_rating  \\\n",
       "0       9.767406e+10           70.0       2.0              1199.0        77.0   \n",
       "1       9.768889e+10           67.0       3.0             12585.0        90.0   \n",
       "2       9.824279e+10           59.0       8.0              3291.0        73.0   \n",
       "3       9.833438e+10           66.0       1.0               288.0        80.0   \n",
       "4       9.839326e+10           58.0       2.0              1249.0        87.0   \n",
       "...              ...            ...       ...                 ...         ...   \n",
       "372925  2.288169e+11           48.0       1.0               469.0         0.0   \n",
       "372926  2.289822e+11           42.0       0.0               689.0        83.0   \n",
       "372927  2.290205e+11           70.0       1.0              1424.0         0.0   \n",
       "372928  2.292421e+11           42.0       0.0               164.0        84.0   \n",
       "372929  2.293708e+11           36.0       1.0                 0.0         0.0   \n",
       "\n",
       "        stars  n_reviews  avg_rank  avg_price  avg_saving_percent  n_clicks  \\\n",
       "0         4.0      861.0    17.550      81.64                18.0       0.0   \n",
       "1         4.0     4371.0    17.383     189.38                28.0       4.0   \n",
       "2         2.0     3084.0     7.000      72.16                 2.0       4.0   \n",
       "3         0.0      603.0    12.564     173.25                 0.0      10.0   \n",
       "4         0.0     1683.0    18.391      96.70                 0.0       0.0   \n",
       "...       ...        ...       ...        ...                 ...       ...   \n",
       "372925    0.0        0.0    21.000      78.86                 0.0       0.0   \n",
       "372926    0.0       72.0    14.174     116.56                 4.0       0.0   \n",
       "372927    0.0        0.0    16.211      16.11                 0.0       4.0   \n",
       "372928    0.0      222.0    20.000     253.81                 0.0       0.0   \n",
       "372929    0.0        0.0    20.387      36.13                 0.0       0.0   \n",
       "\n",
       "        count  \n",
       "0        80.0  \n",
       "1       751.0  \n",
       "2         5.0  \n",
       "3        73.0  \n",
       "4        68.0  \n",
       "...       ...  \n",
       "372925   16.0  \n",
       "372926   66.0  \n",
       "372927   11.0  \n",
       "372928    5.0  \n",
       "372929   32.0  \n",
       "\n",
       "[372930 rows x 12 columns]"
      ]
     },
     "execution_count": 405,
     "metadata": {},
     "output_type": "execute_result"
    }
   ],
   "source": [
    "hotel_data = pd.read_csv('cleaned.csv')\n",
    "#hotel_data = hotel_data.drop(columns = ['hotel_id']) # dropping the hotel_id column as we can not use it as predictor!\n",
    "hotel_data"
   ]
  },
  {
   "cell_type": "markdown",
   "metadata": {},
   "source": [
    "#### Initial Modeling"
   ]
  },
  {
   "cell_type": "code",
   "execution_count": 406,
   "metadata": {},
   "outputs": [],
   "source": [
    "# First let's create our X and y for the model\n",
    "initial_model_data = hotel_data.copy()"
   ]
  },
  {
   "cell_type": "code",
   "execution_count": 407,
   "metadata": {},
   "outputs": [],
   "source": [
    "# now let's split the data into train and test sets\n",
    "# since we have seen in the EDA that our target y has a skwed distribtion we will use stratified splitting"
   ]
  },
  {
   "cell_type": "code",
   "execution_count": 408,
   "metadata": {},
   "outputs": [],
   "source": [
    "def split_data(data, test_size = 0.2):\n",
    "    \"\"\"\n",
    "    Split the data into X and y and then into train and test set\n",
    "    \n",
    "    input:\n",
    "    -----\n",
    "    data: dataframe \n",
    "    \n",
    "    returns:\n",
    "    --------\n",
    "    X_train,X_test,y_train,y_test\n",
    "    \"\"\"\n",
    "    y = data['n_clicks']\n",
    "    X = data.drop(columns = ['n_clicks'])\n",
    "    # splitting with 20% test data for validation and using stratification paramter\n",
    "    \n",
    "    (X_train, X_test, y_train, y_test)  = train_test_split(X,y, stratify = y, test_size = test_size, random_state = 2020)\n",
    "    return X_train, X_test, y_train, y_test"
   ]
  },
  {
   "cell_type": "code",
   "execution_count": 417,
   "metadata": {},
   "outputs": [],
   "source": [
    "X_train_0, X_test_0, y_train_0, y_test_0 = split_data(initial_model_data) # creating out initial split"
   ]
  },
  {
   "cell_type": "markdown",
   "metadata": {},
   "source": [
    "### Pipeline : MinMax scaling"
   ]
  },
  {
   "cell_type": "code",
   "execution_count": 418,
   "metadata": {},
   "outputs": [],
   "source": [
    "# To create a pipeline we need to specify that columns we want to prepoces"
   ]
  },
  {
   "cell_type": "code",
   "execution_count": 419,
   "metadata": {},
   "outputs": [
    {
     "data": {
      "text/plain": [
       "['hotel_id',\n",
       " 'content_score',\n",
       " 'n_images',\n",
       " 'distance_to_center',\n",
       " 'avg_rating',\n",
       " 'stars',\n",
       " 'n_reviews',\n",
       " 'avg_rank',\n",
       " 'avg_price',\n",
       " 'avg_saving_percent',\n",
       " 'count']"
      ]
     },
     "execution_count": 419,
     "metadata": {},
     "output_type": "execute_result"
    }
   ],
   "source": [
    "numerical_cols = list(X_train_0.columns)\n",
    "numerical_cols"
   ]
  },
  {
   "cell_type": "code",
   "execution_count": 420,
   "metadata": {},
   "outputs": [],
   "source": [
    "numerical_transformer = Pipeline(steps = [('scaler',MinMaxScaler(feature_range=(1, 2))),\n",
    "                                        ])"
   ]
  },
  {
   "cell_type": "code",
   "execution_count": 421,
   "metadata": {},
   "outputs": [],
   "source": [
    "preprocessor = ColumnTransformer(transformers = [('num',numerical_transformer,numerical_cols)])"
   ]
  },
  {
   "cell_type": "markdown",
   "metadata": {},
   "source": [
    "### Baseline: Linear Model with MinMax scaling and cross validation:\n",
    "Our base model will be a Linear model, why? because linear models are fast, and easy to build and interpret,if we can fit a linear model with a good performance then it will be fast when deployed in produciton. Also we would understand exactly how each predictor contribute to our tarrget variable `n_clicks`. We will start with Ridge models which apply linear regression with regularization."
   ]
  },
  {
   "cell_type": "code",
   "execution_count": 422,
   "metadata": {},
   "outputs": [],
   "source": [
    "# cross validation\n",
    "cv = RepeatedStratifiedKFold(n_splits=10, n_repeats=3, random_state=2020)"
   ]
  },
  {
   "cell_type": "code",
   "execution_count": 423,
   "metadata": {},
   "outputs": [],
   "source": [
    "# building lineaer model\n",
    "ridge=  RidgeCV(alphas=[1e-3, 1e-2, 1e-1,0.2,0.4,0.6,0.8, 1], cv =cv)\n",
    "reg_pipeline = Pipeline(steps=[('preprocessor', preprocessor),\n",
    "                      ('regressor',ridge)])"
   ]
  },
  {
   "cell_type": "code",
   "execution_count": 424,
   "metadata": {},
   "outputs": [
    {
     "name": "stdout",
     "output_type": "stream",
     "text": [
      "model score on training set =  0.12249691119190387\n",
      "model score on test set =  0.12126171905468575\n",
      "elapsed time =  10.228202819824219\n",
      "MSE =  28.290494949386147\n"
     ]
    }
   ],
   "source": [
    "start_time = time.time()\n",
    "reg_pipeline.fit(X_train_0,y_train_0)\n",
    "print('model score on training set = ',reg_pipeline.score(X_train_0, y_train_0))\n",
    "print('model score on test set = ',reg_pipeline.score(X_test_0, y_test_0))\n",
    "y_pred_0 = reg_pipeline.predict(X_test_0)\n",
    "elapsed_time = time.time() - start_time\n",
    "print('elapsed time = ',elapsed_time )\n",
    "print('MSE = ',mean_squared_error(y_test_0, y_pred_0))"
   ]
  },
  {
   "cell_type": "markdown",
   "metadata": {},
   "source": [
    "> The model is fas but it has very poor performance. Could we improve the performance."
   ]
  },
  {
   "cell_type": "markdown",
   "metadata": {},
   "source": [
    "### Base model +  Power Transformation:\n",
    "EDA has revealed that some features has a heavy tail distributon issues. As we know linear models such as Ridge assumes that features have Gaussian probability distribution.  We will try to see if power transformation helps in this regards:"
   ]
  },
  {
   "cell_type": "code",
   "execution_count": 271,
   "metadata": {},
   "outputs": [],
   "source": [
    "numerical_transformer = Pipeline(steps = [('scaler',MinMaxScaler(feature_range=(1, 2))),\n",
    "                                         ('power',PowerTransformer(method='box-cox'))\n",
    "                                        ])\n",
    "preprocessor = ColumnTransformer(transformers = [('num',numerical_transformer,numerical_cols)])"
   ]
  },
  {
   "cell_type": "code",
   "execution_count": 272,
   "metadata": {},
   "outputs": [
    {
     "name": "stdout",
     "output_type": "stream",
     "text": [
      "model score on training set =  0.1310143590969931\n",
      "model score on test set =  0.13141377109306662\n",
      "elapsed time =  10.577090740203857\n",
      "MSE =  27.963655225721492\n"
     ]
    }
   ],
   "source": [
    "ridge=  RidgeCV(alphas=[1e-3, 1e-2, 1e-1,0.2,0.4,0.6,0.8, 1], cv =cv)\n",
    "reg_pipeline = Pipeline(steps=[('preprocessor', preprocessor),\n",
    "                      ('regressor',ridge)])\n",
    "start_time = time.time()\n",
    "reg_pipeline.fit(X_train_0,y_train_0)\n",
    "print('model score on training set = ',reg_pipeline.score(X_train_0, y_train_0))\n",
    "print('model score on test set = ',reg_pipeline.score(X_test_0, y_test_0))\n",
    "y_pred_0 = reg_pipeline.predict(X_test_0)\n",
    "elapsed_time = time.time() - start_time\n",
    "print('elapsed time = ',elapsed_time )\n",
    "print('MSE = ',mean_squared_error(y_test_0, y_pred_0))"
   ]
  },
  {
   "cell_type": "markdown",
   "metadata": {},
   "source": [
    "> Indeed there is a considerable improvement!"
   ]
  },
  {
   "cell_type": "code",
   "execution_count": 137,
   "metadata": {},
   "outputs": [],
   "source": [
    "# We will create a reusable funciton to evaluate future models"
   ]
  },
  {
   "cell_type": "code",
   "execution_count": 273,
   "metadata": {},
   "outputs": [],
   "source": [
    "def evaluate_model(model,X_train,y_train,X_test,y_test):\n",
    "    \"\"\"\n",
    "    evaluate the performance of a given model on the X_test\n",
    "    \n",
    "    input:\n",
    "    -----\n",
    "    \n",
    "    model : fitted model\n",
    "    X_test : dataframe\n",
    "    y_test : dataframe\n",
    "    \n",
    "        \"\"\"\n",
    "\n",
    "    start_time = time.time()\n",
    "    print('model score on training set = ',model.score(X_train, y_train))\n",
    "    print('model score on test set = ',model.score(X_test, y_test))\n",
    "    y_pred = model.predict(X_test)\n",
    "    elapsed_time = time.time() - start_time\n",
    "    print('elapsed time = ',elapsed_time )\n",
    "    print('MSE = ',mean_squared_error(y_test, y_pred))\n",
    "    \n",
    "    "
   ]
  },
  {
   "cell_type": "code",
   "execution_count": 204,
   "metadata": {},
   "outputs": [],
   "source": [
    "# let's create a function for the pipeline since we will need many times later"
   ]
  },
  {
   "cell_type": "code",
   "execution_count": 274,
   "metadata": {},
   "outputs": [],
   "source": [
    "def create_pipeline(X_train,y_train, model):\n",
    "    \n",
    "    \"\"\"\n",
    "    Create a pipeline for preprocessing and modeling\n",
    "    \n",
    "    inputs:\n",
    "    -----\n",
    "    X_train: dataframe\n",
    "    model : sklearn model\n",
    "    \"\"\"\n",
    "    \n",
    "    numerical_cols = list(X_train.columns)\n",
    "    numerical_transformer = Pipeline(steps = [('scaler',(MinMaxScaler(feature_range=(1, 2)))),\n",
    "                                        ('power',PowerTransformer(method='box-cox'))\n",
    "                                        ])\n",
    "    preprocessor = ColumnTransformer(transformers = [('num',numerical_transformer,numerical_cols)])\n",
    "    reg_pipeline = Pipeline(steps=[('preprocessor', preprocessor),\n",
    "                      ('regressor', model)])\n",
    "    reg_pipeline.fit(X_train,y_train)\n",
    "    \n",
    "    return reg_pipeline\n"
   ]
  },
  {
   "cell_type": "markdown",
   "metadata": {},
   "source": [
    "### Base model +  Power Transformation + Feature Engineering"
   ]
  },
  {
   "cell_type": "markdown",
   "metadata": {},
   "source": [
    "One fast way to improve the peformance is to create more meaningful feature. For example, we have the avg_price and the avg_saving_percent, but often people think in terms of how much money the save. Therefore, we can create new feature, let's call it avg_saving_cash by multiplying avg_price and avg_saving_percent\n",
    "\n"
   ]
  },
  {
   "cell_type": "code",
   "execution_count": 275,
   "metadata": {},
   "outputs": [],
   "source": [
    "# first we will create a copy of the original dataset\n",
    "hotel_data_fengineering = hotel_data.copy()"
   ]
  },
  {
   "cell_type": "markdown",
   "metadata": {},
   "source": [
    "- Now let's create our new feature"
   ]
  },
  {
   "cell_type": "code",
   "execution_count": 276,
   "metadata": {},
   "outputs": [],
   "source": [
    "hotel_data_fengineering['avg_saving_cash'] =hotel_data_fengineering['avg_price']*hotel_data_fengineering['avg_saving_percent']"
   ]
  },
  {
   "cell_type": "code",
   "execution_count": 430,
   "metadata": {},
   "outputs": [],
   "source": [
    "# now let's split the data\n",
    "X_train_1, X_test_1, y_train_1, y_test_1 = split_data(hotel_data_fengineering)"
   ]
  },
  {
   "cell_type": "code",
   "execution_count": 431,
   "metadata": {},
   "outputs": [],
   "source": [
    "# making a pipleline\n",
    "ridge=  RidgeCV(alphas=[1e-3, 1e-2, 1e-1,0.2,0.4,0.6,0.8, 1], cv = cv)\n",
    "reg_pipeline2 = create_pipeline(X_train_1,y_train_1,ridge )"
   ]
  },
  {
   "cell_type": "code",
   "execution_count": 279,
   "metadata": {},
   "outputs": [
    {
     "name": "stdout",
     "output_type": "stream",
     "text": [
      "model score on training set =  0.13603752259575297\n",
      "model score on test set =  0.13647822979195234\n",
      "elapsed time =  0.18760395050048828\n",
      "MSE =  27.800607767395142\n"
     ]
    }
   ],
   "source": [
    "# evaluating the performance of the model\n",
    "evaluate_model(reg_pipeline2,X_train_1,y_train_1,X_test_1,y_test_1)"
   ]
  },
  {
   "cell_type": "markdown",
   "metadata": {},
   "source": [
    "> Again we notice some improvement for the model which has the new feature."
   ]
  },
  {
   "cell_type": "markdown",
   "metadata": {},
   "source": [
    "### Testing other Models:"
   ]
  },
  {
   "cell_type": "markdown",
   "metadata": {},
   "source": [
    "We will now test several models including SGD, Gradient Boost, Random Forest and XGB and evaluate them base on mean squared error and performance."
   ]
  },
  {
   "cell_type": "code",
   "execution_count": 186,
   "metadata": {},
   "outputs": [],
   "source": [
    "def build_models():\n",
    "    \"\"\"\n",
    "    creates regression a selected models with the defualt values\n",
    "    \n",
    "    input :\n",
    "    ----\n",
    "    None\n",
    "    returns:\n",
    "    -------\n",
    "    Two lists, one for models and the second is for the name of the models\n",
    "    \"\"\"\n",
    "    sgd = SGDRegressor(random_state=2020)\n",
    "    grad = GradientBoostingRegressor(random_state=2020)\n",
    "    rf = RandomForestRegressor(random_state=2020)\n",
    "    xgb = XGBRegressor()\n",
    "    regressors = [sgd, grad,rf,xgb]\n",
    "    regressors_names = ['SGDRegressor','Gradient Boost','Random Forest','xgb']\n",
    "    return  regressors,regressors_names"
   ]
  },
  {
   "cell_type": "code",
   "execution_count": 213,
   "metadata": {},
   "outputs": [
    {
     "name": "stdout",
     "output_type": "stream",
     "text": [
      "Results for SGDRegressor\n",
      "__________________________________\n",
      "model score on training set =  0.13475556961054513\n",
      "model score on test set =  0.13585433426047933\n",
      "elapsed time =  0.17861604690551758\n",
      "MSE =  27.904777066734866\n",
      "        \n",
      "Results for Gradient Boost\n",
      "__________________________________\n",
      "model score on training set =  0.23360363173886733\n",
      "model score on test set =  0.23050581747363796\n",
      "elapsed time =  0.7015597820281982\n",
      "MSE =  24.848314895118612\n",
      "        \n",
      "Results for Random Forest\n",
      "__________________________________\n",
      "model score on training set =  0.8911539648440476\n",
      "model score on test set =  0.22292319630546065\n",
      "elapsed time =  14.00472903251648\n",
      "MSE =  25.093171013326895\n",
      "        \n",
      "Results for xgb\n",
      "__________________________________\n",
      "model score on training set =  0.37751259491939926\n",
      "model score on test set =  0.29432473231221057\n",
      "elapsed time =  0.4946439266204834\n",
      "MSE =  22.787490358450615\n",
      "        \n"
     ]
    }
   ],
   "source": [
    "# now let's test these models and evaluate their performance\n",
    "regressors,regressor_names = build_models()\n",
    "\n",
    "for regressor,regressor_name in zip(regressors,regressor_names):\n",
    "    print(\"Results for\",regressor_name)\n",
    "    print(\"__________________________________\")\n",
    "    reg_pipeline = create_pipeline(X_train_1,y_train_1,regressor)\n",
    "    \n",
    "    evaluate_model(reg_pipeline,X_train_1,y_train_1,X_test_1,y_test_1)\n",
    "    print(\"        \")"
   ]
  },
  {
   "cell_type": "markdown",
   "metadata": {},
   "source": [
    " #### According to this results,we have the following observations :\n",
    "- Linear Regression SGDRegressor have the fastest models but also have the lowest accuracy,\n",
    "- Gradient Boost model has bias issues, while random forest suffers from variance issues. We can reduce ovefitting of random forest by reducing max depth, n_estimotros or max_features.\n",
    "- XGBRegressor seems to be the most promsing in terms of MSE. We will adopt this model and try to fine tune the paramters to improve the mse."
   ]
  },
  {
   "cell_type": "markdown",
   "metadata": {},
   "source": [
    "### Random Forest + hyperparamter optimization\n",
    "let's try to reduce the ovefitting of random forest:"
   ]
  },
  {
   "cell_type": "code",
   "execution_count": 215,
   "metadata": {},
   "outputs": [
    {
     "name": "stdout",
     "output_type": "stream",
     "text": [
      "model score on training set =  0.38457126280535037\n",
      "model score on test set =  0.2390538758264933\n",
      "elapsed time =  5.826947927474976\n",
      "MSE =  24.572283119288624\n",
      "        \n"
     ]
    }
   ],
   "source": [
    "rf_regularized  = RandomForestRegressor(random_state=2020, n_estimators =100, max_depth = 13, max_features = 7)\n",
    "reg_pipeline = create_pipeline(X_train_1,y_train_1,rf_regularized )\n",
    "evaluate_model(reg_pipeline,X_train_1,y_train_1,X_test_1,y_test_1)\n",
    "print(\"        \")"
   ]
  },
  {
   "cell_type": "markdown",
   "metadata": {},
   "source": [
    "> We have reduced overfitting, but the training accuracy also decreased indicating less poweful model."
   ]
  },
  {
   "cell_type": "markdown",
   "metadata": {},
   "source": [
    "### XGBOOST : Model Improvements Using Hyperparamters optimization"
   ]
  },
  {
   "cell_type": "code",
   "execution_count": 280,
   "metadata": {},
   "outputs": [],
   "source": [
    "# let's create our X_train and X_test since it has it's own cross-validation.\n",
    "data_train = xgboost.DMatrix(X_train_1, label=y_train_1)\n",
    "data_test = xgboost.DMatrix(X_test_1, label=y_test_1)"
   ]
  },
  {
   "cell_type": "code",
   "execution_count": null,
   "metadata": {},
   "outputs": [],
   "source": [
    "# we will now create our initial set of paramters, which are the defual"
   ]
  },
  {
   "cell_type": "code",
   "execution_count": 217,
   "metadata": {},
   "outputs": [],
   "source": [
    "params = {\n",
    "    # These are the hyper-parameters that we are going to tune.\n",
    "    'max_depth':6,\n",
    "    'min_child_weight': 1,\n",
    "    'eta':.3,\n",
    "    'subsample': 1,\n",
    "    'colsample_bytree': 1,\n",
    "    # Other parameters\n",
    "    'objective':'reg:squarederror',\n",
    "}"
   ]
  },
  {
   "cell_type": "code",
   "execution_count": 218,
   "metadata": {},
   "outputs": [],
   "source": [
    "params['eval_metric'] = \"rmse\"\n"
   ]
  },
  {
   "cell_type": "code",
   "execution_count": 219,
   "metadata": {},
   "outputs": [],
   "source": [
    "num_boost_round = 999"
   ]
  },
  {
   "cell_type": "code",
   "execution_count": 220,
   "metadata": {},
   "outputs": [
    {
     "name": "stdout",
     "output_type": "stream",
     "text": [
      "[0]\tTest-rmse:5.55423\n",
      "Will train until Test-rmse hasn't improved in 5 rounds.\n",
      "[1]\tTest-rmse:5.32266\n",
      "[2]\tTest-rmse:5.18647\n",
      "[3]\tTest-rmse:5.11143\n",
      "[4]\tTest-rmse:5.06422\n",
      "[5]\tTest-rmse:5.03301\n",
      "[6]\tTest-rmse:5.01100\n",
      "[7]\tTest-rmse:4.99705\n",
      "[8]\tTest-rmse:4.98685\n",
      "[9]\tTest-rmse:4.97750\n",
      "[10]\tTest-rmse:4.97253\n",
      "[11]\tTest-rmse:4.95962\n",
      "[12]\tTest-rmse:4.95271\n",
      "[13]\tTest-rmse:4.94316\n",
      "[14]\tTest-rmse:4.92579\n",
      "[15]\tTest-rmse:4.92473\n",
      "[16]\tTest-rmse:4.92256\n",
      "[17]\tTest-rmse:4.91504\n",
      "[18]\tTest-rmse:4.91186\n",
      "[19]\tTest-rmse:4.90840\n",
      "[20]\tTest-rmse:4.90479\n",
      "[21]\tTest-rmse:4.89885\n",
      "[22]\tTest-rmse:4.89806\n",
      "[23]\tTest-rmse:4.89620\n",
      "[24]\tTest-rmse:4.89077\n",
      "[25]\tTest-rmse:4.88590\n",
      "[26]\tTest-rmse:4.88399\n",
      "[27]\tTest-rmse:4.87280\n",
      "[28]\tTest-rmse:4.86342\n",
      "[29]\tTest-rmse:4.86124\n",
      "[30]\tTest-rmse:4.85963\n",
      "[31]\tTest-rmse:4.85641\n",
      "[32]\tTest-rmse:4.85170\n",
      "[33]\tTest-rmse:4.85256\n",
      "[34]\tTest-rmse:4.85049\n",
      "[35]\tTest-rmse:4.84743\n",
      "[36]\tTest-rmse:4.84534\n",
      "[37]\tTest-rmse:4.83770\n",
      "[38]\tTest-rmse:4.83612\n",
      "[39]\tTest-rmse:4.83461\n",
      "[40]\tTest-rmse:4.83428\n",
      "[41]\tTest-rmse:4.83176\n",
      "[42]\tTest-rmse:4.82892\n",
      "[43]\tTest-rmse:4.82668\n",
      "[44]\tTest-rmse:4.82601\n",
      "[45]\tTest-rmse:4.82494\n",
      "[46]\tTest-rmse:4.82059\n",
      "[47]\tTest-rmse:4.81560\n",
      "[48]\tTest-rmse:4.81535\n",
      "[49]\tTest-rmse:4.81356\n",
      "[50]\tTest-rmse:4.81051\n",
      "[51]\tTest-rmse:4.81142\n",
      "[52]\tTest-rmse:4.80940\n",
      "[53]\tTest-rmse:4.80925\n",
      "[54]\tTest-rmse:4.80830\n",
      "[55]\tTest-rmse:4.80689\n",
      "[56]\tTest-rmse:4.80645\n",
      "[57]\tTest-rmse:4.80643\n",
      "[58]\tTest-rmse:4.80577\n",
      "[59]\tTest-rmse:4.80549\n",
      "[60]\tTest-rmse:4.80520\n",
      "[61]\tTest-rmse:4.80410\n",
      "[62]\tTest-rmse:4.80283\n",
      "[63]\tTest-rmse:4.80317\n",
      "[64]\tTest-rmse:4.80183\n",
      "[65]\tTest-rmse:4.80164\n",
      "[66]\tTest-rmse:4.80145\n",
      "[67]\tTest-rmse:4.80023\n",
      "[68]\tTest-rmse:4.80068\n",
      "[69]\tTest-rmse:4.80112\n",
      "[70]\tTest-rmse:4.80107\n",
      "[71]\tTest-rmse:4.79853\n",
      "[72]\tTest-rmse:4.79895\n",
      "[73]\tTest-rmse:4.79537\n",
      "[74]\tTest-rmse:4.79466\n",
      "[75]\tTest-rmse:4.79313\n",
      "[76]\tTest-rmse:4.79344\n",
      "[77]\tTest-rmse:4.79449\n",
      "[78]\tTest-rmse:4.79431\n",
      "[79]\tTest-rmse:4.79401\n",
      "[80]\tTest-rmse:4.79389\n",
      "Stopping. Best iteration:\n",
      "[75]\tTest-rmse:4.79313\n",
      "\n"
     ]
    }
   ],
   "source": [
    "model = xgboost.train(\n",
    "    params,\n",
    "    data_train,\n",
    "    num_boost_round=num_boost_round,\n",
    "    evals=[(data_test, \"Test\")],\n",
    "    early_stopping_rounds=5\n",
    ")"
   ]
  },
  {
   "cell_type": "markdown",
   "metadata": {},
   "source": [
    "- 1. Parameters `max_depth` and `min_child_weight`:"
   ]
  },
  {
   "cell_type": "code",
   "execution_count": 105,
   "metadata": {},
   "outputs": [],
   "source": [
    "gridsearch_params = [\n",
    "    (max_depth, min_child_weight)\n",
    "    for max_depth in range(6,10)\n",
    "    for min_child_weight in range(1,4)\n",
    "]"
   ]
  },
  {
   "cell_type": "code",
   "execution_count": 119,
   "metadata": {},
   "outputs": [
    {
     "name": "stdout",
     "output_type": "stream",
     "text": [
      "CV with max_depth=6, min_child_weight=1\n",
      "\trmse 4.7532733 for 299 rounds\n",
      "CV with max_depth=6, min_child_weight=2\n",
      "\trmse 4.7547477 for 292 rounds\n",
      "CV with max_depth=6, min_child_weight=3\n",
      "\trmse 4.7499567 for 387 rounds\n",
      "CV with max_depth=7, min_child_weight=1\n",
      "\trmse 4.767374600000001 for 204 rounds\n",
      "CV with max_depth=7, min_child_weight=2\n",
      "\trmse 4.765694900000001 for 184 rounds\n",
      "CV with max_depth=7, min_child_weight=3\n",
      "\trmse 4.7645952 for 183 rounds\n",
      "CV with max_depth=8, min_child_weight=1\n",
      "\trmse 4.7831422 for 147 rounds\n",
      "CV with max_depth=8, min_child_weight=2\n",
      "\trmse 4.7878861 for 151 rounds\n",
      "CV with max_depth=8, min_child_weight=3\n",
      "\trmse 4.7794752 for 165 rounds\n",
      "CV with max_depth=9, min_child_weight=1\n",
      "\trmse 4.7935383 for 116 rounds\n",
      "CV with max_depth=9, min_child_weight=2\n",
      "\trmse 4.7994258 for 102 rounds\n",
      "CV with max_depth=9, min_child_weight=3\n",
      "\trmse 4.7920015000000005 for 122 rounds\n",
      "Best params: 6, 3, RMSE: 4.7499567\n"
     ]
    }
   ],
   "source": [
    "#Define initial best params and MAE\n",
    "min_rmse = float(\"Inf\")\n",
    "best_params = None\n",
    "for max_depth, min_child_weight in gridsearch_params:\n",
    "    print(\"CV with max_depth={}, min_child_weight={}\".format(\n",
    "                             max_depth,\n",
    "                             min_child_weight))\n",
    "    # Update our parameters\n",
    "    params['max_depth'] = max_depth\n",
    "    params['min_child_weight'] = min_child_weight\n",
    "    # Run CV\n",
    "    cv_results = xgboost.cv(\n",
    "        params,\n",
    "        data_train,\n",
    "        num_boost_round=num_boost_round,\n",
    "        seed=2020,\n",
    "        nfold=10,\n",
    "        metrics={'rmse'},\n",
    "        early_stopping_rounds=20\n",
    "    )\n",
    "    # Update best rmse\n",
    "    mean_rmse = cv_results['test-rmse-mean'].min()\n",
    "    boost_rounds = cv_results['test-rmse-mean'].argmin()\n",
    "    print(\"\\trmse {} for {} rounds\".format(mean_rmse, boost_rounds))\n",
    "    if mean_rmse < min_rmse:\n",
    "        min_rmse = mean_rmse\n",
    "        best_params = (max_depth,min_child_weight)\n",
    "print(\"Best params: {}, {}, RMSE: {}\".format(best_params[0], best_params[1], min_rmse))"
   ]
  },
  {
   "cell_type": "code",
   "execution_count": 221,
   "metadata": {},
   "outputs": [],
   "source": [
    "params['max_depth'] = 6\n",
    "params['min_child_weight'] = 3"
   ]
  },
  {
   "cell_type": "code",
   "execution_count": null,
   "metadata": {},
   "outputs": [],
   "source": [
    "#Parameters subsample and colsample_bytree"
   ]
  },
  {
   "cell_type": "code",
   "execution_count": 107,
   "metadata": {},
   "outputs": [],
   "source": [
    "gridsearch_params = [\n",
    "    (subsample, colsample)\n",
    "    for subsample in [i/10. for i in range(7,11)]\n",
    "    for colsample in [i/10. for i in range(7,11)]\n",
    "]"
   ]
  },
  {
   "cell_type": "code",
   "execution_count": 111,
   "metadata": {},
   "outputs": [
    {
     "name": "stdout",
     "output_type": "stream",
     "text": [
      "CV with subsample=1.0, colsample=1.0\n",
      "\trmse 4.7440166 for 265 rounds\n",
      "CV with subsample=1.0, colsample=0.9\n",
      "\trmse 4.7440166 for 362 rounds\n",
      "CV with subsample=1.0, colsample=0.8\n",
      "\trmse 4.7440166 for 256 rounds\n",
      "CV with subsample=1.0, colsample=0.7\n",
      "\trmse 4.7440166 for 369 rounds\n",
      "CV with subsample=0.9, colsample=1.0\n",
      "\trmse 4.7440166 for 284 rounds\n",
      "CV with subsample=0.9, colsample=0.9\n",
      "\trmse 4.7440166 for 281 rounds\n",
      "CV with subsample=0.9, colsample=0.8\n",
      "\trmse 4.7440166 for 301 rounds\n",
      "CV with subsample=0.9, colsample=0.7\n",
      "\trmse 4.7440166 for 274 rounds\n",
      "CV with subsample=0.8, colsample=1.0\n",
      "\trmse 4.7440166 for 237 rounds\n",
      "CV with subsample=0.8, colsample=0.9\n",
      "\trmse 4.7440166 for 232 rounds\n",
      "CV with subsample=0.8, colsample=0.8\n",
      "\trmse 4.7440166 for 255 rounds\n",
      "CV with subsample=0.8, colsample=0.7\n",
      "\trmse 4.7440166 for 282 rounds\n",
      "CV with subsample=0.7, colsample=1.0\n",
      "\trmse 4.7440166 for 204 rounds\n",
      "CV with subsample=0.7, colsample=0.9\n",
      "\trmse 4.7440166 for 194 rounds\n",
      "CV with subsample=0.7, colsample=0.8\n",
      "\trmse 4.7440166 for 172 rounds\n",
      "CV with subsample=0.7, colsample=0.7\n",
      "\trmse 4.7440166 for 181 rounds\n",
      "Best params: 1.0, 0.7, rmse: 4.7348479999999995\n"
     ]
    }
   ],
   "source": [
    "min_rmse = float(\"Inf\")\n",
    "best_params = None\n",
    "# We start by the largest values and go down to the smallest\n",
    "for subsample, colsample in reversed(gridsearch_params):\n",
    "    print(\"CV with subsample={}, colsample={}\".format(\n",
    "                             subsample,\n",
    "                             colsample))\n",
    "    # We update our parameters\n",
    "    params['subsample'] = subsample\n",
    "    params['colsample_bytree'] = colsample\n",
    "    # Run CV\n",
    "    cv_results = xgboost.cv(\n",
    "        params,\n",
    "        data_train,\n",
    "        num_boost_round=num_boost_round,\n",
    "        seed=2020,\n",
    "        nfold=10,\n",
    "        metrics={'rmse'},\n",
    "        early_stopping_rounds=20\n",
    "    )\n",
    "    # Update best score\n",
    "    mean_rmse = cv_results['test-rmse-mean'].min()\n",
    "    boost_rounds = cv_results['test-rmse-mean'].argmin()\n",
    "    print(\"\\trmse {} for {} rounds\".format(mean_rmse, boost_rounds))\n",
    "    if mean_rmse < min_rmse:\n",
    "        min_rmse = mean_rmse\n",
    "        best_params = (subsample,colsample)\n",
    "print(\"Best params: {}, {}, rmse: {}\".format(best_params[0], best_params[1], min_rmse))"
   ]
  },
  {
   "cell_type": "code",
   "execution_count": 222,
   "metadata": {},
   "outputs": [],
   "source": [
    "params['subsample'] = 1\n",
    "params['colsample_bytree'] = 0.7"
   ]
  },
  {
   "cell_type": "code",
   "execution_count": null,
   "metadata": {},
   "outputs": [],
   "source": [
    "#Parameter ETA"
   ]
  },
  {
   "cell_type": "code",
   "execution_count": 227,
   "metadata": {},
   "outputs": [
    {
     "name": "stdout",
     "output_type": "stream",
     "text": [
      "CV with eta=0.1\n",
      "\trmse 4.6809021 for 998 rounds\n",
      "\n",
      "CV with eta=0.08\n",
      "\trmse 4.683446600000001 for 998 rounds\n",
      "\n",
      "CV with eta=0.07\n",
      "\trmse 4.689411300000001 for 998 rounds\n",
      "\n",
      "CV with eta=0.06\n",
      "\trmse 4.6942932 for 998 rounds\n",
      "\n",
      "Best params: 0.1, rmsee: 4.6809021\n"
     ]
    }
   ],
   "source": [
    "# This can take some time…\n",
    "min_rmse = float(\"Inf\")\n",
    "best_params = None\n",
    "for eta in [.1, .08, .07, .06]:\n",
    "    print(\"CV with eta={}\".format(eta))\n",
    "    # We update our parameters\n",
    "    params['eta'] = eta\n",
    "    # Run and time CV\n",
    "    cv_results = xgboost.cv(\n",
    "        params,\n",
    "        data_train,\n",
    "        num_boost_round=num_boost_round,\n",
    "        seed=2020,\n",
    "        nfold=10\n",
    "        ,metrics=['rmse'],\n",
    "        early_stopping_rounds=20)\n",
    "    # Update best score\n",
    "    mean_rmse = cv_results['test-rmse-mean'].min()\n",
    "    boost_rounds = cv_results['test-rmse-mean'].argmin()\n",
    "    print(\"\\trmse {} for {} rounds\\n\".format(mean_rmse, boost_rounds))\n",
    "    if mean_rmse < min_rmse:\n",
    "        min_rmse = mean_rmse\n",
    "        best_params = eta\n",
    "print(\"Best params: {}, rmsee: {}\".format(best_params, min_rmse))\n"
   ]
  },
  {
   "cell_type": "code",
   "execution_count": 281,
   "metadata": {},
   "outputs": [],
   "source": [
    "params['eta'] = .1"
   ]
  },
  {
   "cell_type": "code",
   "execution_count": 294,
   "metadata": {},
   "outputs": [
    {
     "data": {
      "text/plain": [
       "{'max_depth': 6,\n",
       " 'min_child_weight': 3,\n",
       " 'eta': 0.1,\n",
       " 'subsample': 1,\n",
       " 'colsample_bytree': 0.7,\n",
       " 'objective': 'reg:squarederror',\n",
       " 'eval_metric': 'rmse'}"
      ]
     },
     "execution_count": 294,
     "metadata": {},
     "output_type": "execute_result"
    }
   ],
   "source": [
    "# Let's look at out final parameters\n",
    "params"
   ]
  },
  {
   "cell_type": "code",
   "execution_count": 283,
   "metadata": {},
   "outputs": [],
   "source": [
    "cv_results = xgboost.cv(\n",
    "    params,\n",
    "    data_train,\n",
    "    num_boost_round=num_boost_round,\n",
    "    seed=2020,\n",
    "    nfold=10,\n",
    "    metrics={'rmse'},\n",
    "    early_stopping_rounds=20\n",
    ")"
   ]
  },
  {
   "cell_type": "code",
   "execution_count": 284,
   "metadata": {},
   "outputs": [
    {
     "data": {
      "text/html": [
       "<div>\n",
       "<style scoped>\n",
       "    .dataframe tbody tr th:only-of-type {\n",
       "        vertical-align: middle;\n",
       "    }\n",
       "\n",
       "    .dataframe tbody tr th {\n",
       "        vertical-align: top;\n",
       "    }\n",
       "\n",
       "    .dataframe thead th {\n",
       "        text-align: right;\n",
       "    }\n",
       "</style>\n",
       "<table border=\"1\" class=\"dataframe\">\n",
       "  <thead>\n",
       "    <tr style=\"text-align: right;\">\n",
       "      <th></th>\n",
       "      <th>train-rmse-mean</th>\n",
       "      <th>train-rmse-std</th>\n",
       "      <th>test-rmse-mean</th>\n",
       "      <th>test-rmse-std</th>\n",
       "    </tr>\n",
       "  </thead>\n",
       "  <tbody>\n",
       "    <tr>\n",
       "      <th>0</th>\n",
       "      <td>5.812903</td>\n",
       "      <td>0.004810</td>\n",
       "      <td>5.814218</td>\n",
       "      <td>0.043816</td>\n",
       "    </tr>\n",
       "    <tr>\n",
       "      <th>1</th>\n",
       "      <td>5.691555</td>\n",
       "      <td>0.007500</td>\n",
       "      <td>5.694149</td>\n",
       "      <td>0.043112</td>\n",
       "    </tr>\n",
       "    <tr>\n",
       "      <th>2</th>\n",
       "      <td>5.589881</td>\n",
       "      <td>0.009826</td>\n",
       "      <td>5.594039</td>\n",
       "      <td>0.044018</td>\n",
       "    </tr>\n",
       "    <tr>\n",
       "      <th>3</th>\n",
       "      <td>5.502194</td>\n",
       "      <td>0.011535</td>\n",
       "      <td>5.507373</td>\n",
       "      <td>0.042961</td>\n",
       "    </tr>\n",
       "    <tr>\n",
       "      <th>4</th>\n",
       "      <td>5.426643</td>\n",
       "      <td>0.010272</td>\n",
       "      <td>5.432920</td>\n",
       "      <td>0.043116</td>\n",
       "    </tr>\n",
       "    <tr>\n",
       "      <th>...</th>\n",
       "      <td>...</td>\n",
       "      <td>...</td>\n",
       "      <td>...</td>\n",
       "      <td>...</td>\n",
       "    </tr>\n",
       "    <tr>\n",
       "      <th>994</th>\n",
       "      <td>4.004000</td>\n",
       "      <td>0.007651</td>\n",
       "      <td>4.673532</td>\n",
       "      <td>0.038993</td>\n",
       "    </tr>\n",
       "    <tr>\n",
       "      <th>995</th>\n",
       "      <td>4.003556</td>\n",
       "      <td>0.007467</td>\n",
       "      <td>4.673502</td>\n",
       "      <td>0.039005</td>\n",
       "    </tr>\n",
       "    <tr>\n",
       "      <th>996</th>\n",
       "      <td>4.002755</td>\n",
       "      <td>0.007493</td>\n",
       "      <td>4.673307</td>\n",
       "      <td>0.039087</td>\n",
       "    </tr>\n",
       "    <tr>\n",
       "      <th>997</th>\n",
       "      <td>4.002323</td>\n",
       "      <td>0.007520</td>\n",
       "      <td>4.673268</td>\n",
       "      <td>0.039092</td>\n",
       "    </tr>\n",
       "    <tr>\n",
       "      <th>998</th>\n",
       "      <td>4.001838</td>\n",
       "      <td>0.007518</td>\n",
       "      <td>4.673243</td>\n",
       "      <td>0.039091</td>\n",
       "    </tr>\n",
       "  </tbody>\n",
       "</table>\n",
       "<p>999 rows × 4 columns</p>\n",
       "</div>"
      ],
      "text/plain": [
       "     train-rmse-mean  train-rmse-std  test-rmse-mean  test-rmse-std\n",
       "0           5.812903        0.004810        5.814218       0.043816\n",
       "1           5.691555        0.007500        5.694149       0.043112\n",
       "2           5.589881        0.009826        5.594039       0.044018\n",
       "3           5.502194        0.011535        5.507373       0.042961\n",
       "4           5.426643        0.010272        5.432920       0.043116\n",
       "..               ...             ...             ...            ...\n",
       "994         4.004000        0.007651        4.673532       0.038993\n",
       "995         4.003556        0.007467        4.673502       0.039005\n",
       "996         4.002755        0.007493        4.673307       0.039087\n",
       "997         4.002323        0.007520        4.673268       0.039092\n",
       "998         4.001838        0.007518        4.673243       0.039091\n",
       "\n",
       "[999 rows x 4 columns]"
      ]
     },
     "execution_count": 284,
     "metadata": {},
     "output_type": "execute_result"
    }
   ],
   "source": [
    "cv_results"
   ]
  },
  {
   "cell_type": "code",
   "execution_count": 388,
   "metadata": {},
   "outputs": [
    {
     "data": {
      "text/plain": [
       "4.6732428"
      ]
     },
     "execution_count": 388,
     "metadata": {},
     "output_type": "execute_result"
    }
   ],
   "source": [
    "cv_results['test-rmse-mean'].min()\n",
    "\n"
   ]
  },
  {
   "cell_type": "code",
   "execution_count": 296,
   "metadata": {},
   "outputs": [],
   "source": [
    "## Training the final model in the whole dataset available for training"
   ]
  },
  {
   "cell_type": "code",
   "execution_count": 434,
   "metadata": {},
   "outputs": [],
   "source": [
    "X = hotel_data.drop(columns = ['n_clicks'])\n",
    "# let's also add the new featture avg_saving_cash\n",
    "X['avg_saving_cash'] =X['avg_price']*X['avg_saving_percent']\n",
    "y = hotel_data['n_clicks']"
   ]
  },
  {
   "cell_type": "code",
   "execution_count": 436,
   "metadata": {},
   "outputs": [],
   "source": [
    "# let's prepare our new training data for xgboost\n",
    "dtrain = xgboost.DMatrix(X, label=y)"
   ]
  },
  {
   "cell_type": "code",
   "execution_count": 437,
   "metadata": {},
   "outputs": [],
   "source": [
    "num_boost_round = model.best_iteration + 1\n",
    "best_model = xgboost.train(\n",
    "    params,\n",
    "    dtrain,\n",
    "    num_boost_round=num_boost_round,\n",
    ")"
   ]
  },
  {
   "cell_type": "code",
   "execution_count": 438,
   "metadata": {},
   "outputs": [],
   "source": [
    "### let's save the model\n",
    "\n",
    "best_model.save_model(\"best_model.model\")"
   ]
  },
  {
   "cell_type": "code",
   "execution_count": 439,
   "metadata": {},
   "outputs": [],
   "source": [
    "loaded_model = xgboost.Booster()\n",
    "loaded_model.load_model(\"best_model.model\")"
   ]
  },
  {
   "cell_type": "code",
   "execution_count": 440,
   "metadata": {},
   "outputs": [],
   "source": [
    "X_test = pd.read_csv('cleaned_test.csv')"
   ]
  },
  {
   "cell_type": "code",
   "execution_count": 441,
   "metadata": {},
   "outputs": [
    {
     "data": {
      "text/html": [
       "<div>\n",
       "<style scoped>\n",
       "    .dataframe tbody tr th:only-of-type {\n",
       "        vertical-align: middle;\n",
       "    }\n",
       "\n",
       "    .dataframe tbody tr th {\n",
       "        vertical-align: top;\n",
       "    }\n",
       "\n",
       "    .dataframe thead th {\n",
       "        text-align: right;\n",
       "    }\n",
       "</style>\n",
       "<table border=\"1\" class=\"dataframe\">\n",
       "  <thead>\n",
       "    <tr style=\"text-align: right;\">\n",
       "      <th></th>\n",
       "      <th>hotel_id</th>\n",
       "      <th>content_score</th>\n",
       "      <th>n_images</th>\n",
       "      <th>distance_to_center</th>\n",
       "      <th>avg_rating</th>\n",
       "      <th>stars</th>\n",
       "      <th>n_reviews</th>\n",
       "      <th>avg_rank</th>\n",
       "      <th>avg_price</th>\n",
       "      <th>avg_saving_percent</th>\n",
       "      <th>count</th>\n",
       "      <th>avg_saving_cash</th>\n",
       "    </tr>\n",
       "  </thead>\n",
       "  <tbody>\n",
       "    <tr>\n",
       "      <th>0</th>\n",
       "      <td>14942256073</td>\n",
       "      <td>58.0</td>\n",
       "      <td>2.0</td>\n",
       "      <td>11503.0</td>\n",
       "      <td>89.0</td>\n",
       "      <td>0.0</td>\n",
       "      <td>168.0</td>\n",
       "      <td>13.500</td>\n",
       "      <td>90.19</td>\n",
       "      <td>32.0</td>\n",
       "      <td>12.0</td>\n",
       "      <td>2886.08</td>\n",
       "    </tr>\n",
       "    <tr>\n",
       "      <th>1</th>\n",
       "      <td>16036037903</td>\n",
       "      <td>68.0</td>\n",
       "      <td>4.0</td>\n",
       "      <td>938.0</td>\n",
       "      <td>81.0</td>\n",
       "      <td>5.0</td>\n",
       "      <td>735.0</td>\n",
       "      <td>13.667</td>\n",
       "      <td>98.27</td>\n",
       "      <td>19.0</td>\n",
       "      <td>2.0</td>\n",
       "      <td>1867.13</td>\n",
       "    </tr>\n",
       "    <tr>\n",
       "      <th>2</th>\n",
       "      <td>288585940112</td>\n",
       "      <td>19.0</td>\n",
       "      <td>0.0</td>\n",
       "      <td>38982.0</td>\n",
       "      <td>0.0</td>\n",
       "      <td>0.0</td>\n",
       "      <td>0.0</td>\n",
       "      <td>20.462</td>\n",
       "      <td>48.77</td>\n",
       "      <td>0.0</td>\n",
       "      <td>49.0</td>\n",
       "      <td>0.00</td>\n",
       "    </tr>\n",
       "    <tr>\n",
       "      <th>3</th>\n",
       "      <td>129041645070</td>\n",
       "      <td>47.0</td>\n",
       "      <td>0.0</td>\n",
       "      <td>1683.0</td>\n",
       "      <td>80.0</td>\n",
       "      <td>0.0</td>\n",
       "      <td>69.0</td>\n",
       "      <td>15.000</td>\n",
       "      <td>72.32</td>\n",
       "      <td>0.0</td>\n",
       "      <td>231.0</td>\n",
       "      <td>0.00</td>\n",
       "    </tr>\n",
       "    <tr>\n",
       "      <th>4</th>\n",
       "      <td>12460296563</td>\n",
       "      <td>59.0</td>\n",
       "      <td>3.0</td>\n",
       "      <td>1299.0</td>\n",
       "      <td>80.0</td>\n",
       "      <td>3.0</td>\n",
       "      <td>1470.0</td>\n",
       "      <td>10.000</td>\n",
       "      <td>24.54</td>\n",
       "      <td>19.0</td>\n",
       "      <td>7.0</td>\n",
       "      <td>466.26</td>\n",
       "    </tr>\n",
       "  </tbody>\n",
       "</table>\n",
       "</div>"
      ],
      "text/plain": [
       "       hotel_id  content_score  n_images  distance_to_center  avg_rating  \\\n",
       "0   14942256073           58.0       2.0             11503.0        89.0   \n",
       "1   16036037903           68.0       4.0               938.0        81.0   \n",
       "2  288585940112           19.0       0.0             38982.0         0.0   \n",
       "3  129041645070           47.0       0.0              1683.0        80.0   \n",
       "4   12460296563           59.0       3.0              1299.0        80.0   \n",
       "\n",
       "   stars  n_reviews  avg_rank  avg_price  avg_saving_percent  count  \\\n",
       "0    0.0      168.0    13.500      90.19                32.0   12.0   \n",
       "1    5.0      735.0    13.667      98.27                19.0    2.0   \n",
       "2    0.0        0.0    20.462      48.77                 0.0   49.0   \n",
       "3    0.0       69.0    15.000      72.32                 0.0  231.0   \n",
       "4    3.0     1470.0    10.000      24.54                19.0    7.0   \n",
       "\n",
       "   avg_saving_cash  \n",
       "0          2886.08  \n",
       "1          1867.13  \n",
       "2             0.00  \n",
       "3             0.00  \n",
       "4           466.26  "
      ]
     },
     "execution_count": 441,
     "metadata": {},
     "output_type": "execute_result"
    }
   ],
   "source": [
    "X_test.head()"
   ]
  },
  {
   "cell_type": "code",
   "execution_count": 442,
   "metadata": {},
   "outputs": [],
   "source": [
    "X_test_0 = X_test.drop(columns = ['hotel_id'])"
   ]
  },
  {
   "cell_type": "code",
   "execution_count": 443,
   "metadata": {},
   "outputs": [],
   "source": [
    "dtest = xgboost.DMatrix(X_test)"
   ]
  },
  {
   "cell_type": "code",
   "execution_count": 444,
   "metadata": {},
   "outputs": [
    {
     "data": {
      "text/plain": [
       "array([-0.6757989,  4.7302675,  0.4595676, ...,  1.7641987,  2.7218823,\n",
       "        4.3619   ], dtype=float32)"
      ]
     },
     "execution_count": 444,
     "metadata": {},
     "output_type": "execute_result"
    }
   ],
   "source": [
    "loaded_model.predict(dtest)"
   ]
  },
  {
   "cell_type": "code",
   "execution_count": 400,
   "metadata": {},
   "outputs": [
    {
     "data": {
      "text/html": [
       "<div>\n",
       "<style scoped>\n",
       "    .dataframe tbody tr th:only-of-type {\n",
       "        vertical-align: middle;\n",
       "    }\n",
       "\n",
       "    .dataframe tbody tr th {\n",
       "        vertical-align: top;\n",
       "    }\n",
       "\n",
       "    .dataframe thead th {\n",
       "        text-align: right;\n",
       "    }\n",
       "</style>\n",
       "<table border=\"1\" class=\"dataframe\">\n",
       "  <thead>\n",
       "    <tr style=\"text-align: right;\">\n",
       "      <th></th>\n",
       "      <th>content_score</th>\n",
       "      <th>n_images</th>\n",
       "      <th>distance_to_center</th>\n",
       "      <th>avg_rating</th>\n",
       "      <th>stars</th>\n",
       "      <th>n_reviews</th>\n",
       "      <th>avg_rank</th>\n",
       "      <th>avg_price</th>\n",
       "      <th>avg_saving_percent</th>\n",
       "      <th>count</th>\n",
       "      <th>avg_saving_cash</th>\n",
       "    </tr>\n",
       "  </thead>\n",
       "  <tbody>\n",
       "    <tr>\n",
       "      <th>22972</th>\n",
       "      <td>72.0</td>\n",
       "      <td>4.0</td>\n",
       "      <td>1937.0</td>\n",
       "      <td>67.0</td>\n",
       "      <td>4.0</td>\n",
       "      <td>2580.0</td>\n",
       "      <td>16.664</td>\n",
       "      <td>34.48</td>\n",
       "      <td>39.0</td>\n",
       "      <td>188.0</td>\n",
       "      <td>1344.72</td>\n",
       "    </tr>\n",
       "    <tr>\n",
       "      <th>143098</th>\n",
       "      <td>48.0</td>\n",
       "      <td>2.0</td>\n",
       "      <td>3486.0</td>\n",
       "      <td>88.0</td>\n",
       "      <td>0.0</td>\n",
       "      <td>144.0</td>\n",
       "      <td>14.500</td>\n",
       "      <td>177.19</td>\n",
       "      <td>0.0</td>\n",
       "      <td>133.0</td>\n",
       "      <td>0.00</td>\n",
       "    </tr>\n",
       "    <tr>\n",
       "      <th>136759</th>\n",
       "      <td>64.0</td>\n",
       "      <td>4.0</td>\n",
       "      <td>6283.0</td>\n",
       "      <td>69.0</td>\n",
       "      <td>0.0</td>\n",
       "      <td>3012.0</td>\n",
       "      <td>17.095</td>\n",
       "      <td>122.47</td>\n",
       "      <td>25.0</td>\n",
       "      <td>545.0</td>\n",
       "      <td>3061.75</td>\n",
       "    </tr>\n",
       "    <tr>\n",
       "      <th>48928</th>\n",
       "      <td>28.0</td>\n",
       "      <td>0.0</td>\n",
       "      <td>82803.0</td>\n",
       "      <td>0.0</td>\n",
       "      <td>0.0</td>\n",
       "      <td>0.0</td>\n",
       "      <td>15.471</td>\n",
       "      <td>26.82</td>\n",
       "      <td>0.0</td>\n",
       "      <td>15.0</td>\n",
       "      <td>0.00</td>\n",
       "    </tr>\n",
       "    <tr>\n",
       "      <th>230282</th>\n",
       "      <td>52.0</td>\n",
       "      <td>1.0</td>\n",
       "      <td>1970.0</td>\n",
       "      <td>0.0</td>\n",
       "      <td>0.0</td>\n",
       "      <td>0.0</td>\n",
       "      <td>24.000</td>\n",
       "      <td>159.54</td>\n",
       "      <td>0.0</td>\n",
       "      <td>71.0</td>\n",
       "      <td>0.00</td>\n",
       "    </tr>\n",
       "    <tr>\n",
       "      <th>...</th>\n",
       "      <td>...</td>\n",
       "      <td>...</td>\n",
       "      <td>...</td>\n",
       "      <td>...</td>\n",
       "      <td>...</td>\n",
       "      <td>...</td>\n",
       "      <td>...</td>\n",
       "      <td>...</td>\n",
       "      <td>...</td>\n",
       "      <td>...</td>\n",
       "      <td>...</td>\n",
       "    </tr>\n",
       "    <tr>\n",
       "      <th>372378</th>\n",
       "      <td>60.0</td>\n",
       "      <td>0.0</td>\n",
       "      <td>6521.0</td>\n",
       "      <td>88.0</td>\n",
       "      <td>4.0</td>\n",
       "      <td>366.0</td>\n",
       "      <td>15.200</td>\n",
       "      <td>246.82</td>\n",
       "      <td>22.0</td>\n",
       "      <td>97.0</td>\n",
       "      <td>5430.04</td>\n",
       "    </tr>\n",
       "    <tr>\n",
       "      <th>4771</th>\n",
       "      <td>49.0</td>\n",
       "      <td>1.0</td>\n",
       "      <td>186.0</td>\n",
       "      <td>80.0</td>\n",
       "      <td>3.0</td>\n",
       "      <td>519.0</td>\n",
       "      <td>20.071</td>\n",
       "      <td>73.71</td>\n",
       "      <td>0.0</td>\n",
       "      <td>3.0</td>\n",
       "      <td>0.00</td>\n",
       "    </tr>\n",
       "    <tr>\n",
       "      <th>284107</th>\n",
       "      <td>18.0</td>\n",
       "      <td>0.0</td>\n",
       "      <td>24905.0</td>\n",
       "      <td>0.0</td>\n",
       "      <td>0.0</td>\n",
       "      <td>0.0</td>\n",
       "      <td>13.600</td>\n",
       "      <td>12.70</td>\n",
       "      <td>0.0</td>\n",
       "      <td>36.0</td>\n",
       "      <td>0.00</td>\n",
       "    </tr>\n",
       "    <tr>\n",
       "      <th>165832</th>\n",
       "      <td>46.0</td>\n",
       "      <td>1.0</td>\n",
       "      <td>2421.0</td>\n",
       "      <td>84.0</td>\n",
       "      <td>0.0</td>\n",
       "      <td>90.0</td>\n",
       "      <td>24.000</td>\n",
       "      <td>44.00</td>\n",
       "      <td>0.0</td>\n",
       "      <td>4.0</td>\n",
       "      <td>0.00</td>\n",
       "    </tr>\n",
       "    <tr>\n",
       "      <th>356254</th>\n",
       "      <td>42.0</td>\n",
       "      <td>0.0</td>\n",
       "      <td>2565.0</td>\n",
       "      <td>0.0</td>\n",
       "      <td>0.0</td>\n",
       "      <td>0.0</td>\n",
       "      <td>17.000</td>\n",
       "      <td>55.44</td>\n",
       "      <td>0.0</td>\n",
       "      <td>94.0</td>\n",
       "      <td>0.00</td>\n",
       "    </tr>\n",
       "  </tbody>\n",
       "</table>\n",
       "<p>298344 rows × 11 columns</p>\n",
       "</div>"
      ],
      "text/plain": [
       "        content_score  n_images  distance_to_center  avg_rating  stars  \\\n",
       "22972            72.0       4.0              1937.0        67.0    4.0   \n",
       "143098           48.0       2.0              3486.0        88.0    0.0   \n",
       "136759           64.0       4.0              6283.0        69.0    0.0   \n",
       "48928            28.0       0.0             82803.0         0.0    0.0   \n",
       "230282           52.0       1.0              1970.0         0.0    0.0   \n",
       "...               ...       ...                 ...         ...    ...   \n",
       "372378           60.0       0.0              6521.0        88.0    4.0   \n",
       "4771             49.0       1.0               186.0        80.0    3.0   \n",
       "284107           18.0       0.0             24905.0         0.0    0.0   \n",
       "165832           46.0       1.0              2421.0        84.0    0.0   \n",
       "356254           42.0       0.0              2565.0         0.0    0.0   \n",
       "\n",
       "        n_reviews  avg_rank  avg_price  avg_saving_percent  count  \\\n",
       "22972      2580.0    16.664      34.48                39.0  188.0   \n",
       "143098      144.0    14.500     177.19                 0.0  133.0   \n",
       "136759     3012.0    17.095     122.47                25.0  545.0   \n",
       "48928         0.0    15.471      26.82                 0.0   15.0   \n",
       "230282        0.0    24.000     159.54                 0.0   71.0   \n",
       "...           ...       ...        ...                 ...    ...   \n",
       "372378      366.0    15.200     246.82                22.0   97.0   \n",
       "4771        519.0    20.071      73.71                 0.0    3.0   \n",
       "284107        0.0    13.600      12.70                 0.0   36.0   \n",
       "165832       90.0    24.000      44.00                 0.0    4.0   \n",
       "356254        0.0    17.000      55.44                 0.0   94.0   \n",
       "\n",
       "        avg_saving_cash  \n",
       "22972           1344.72  \n",
       "143098             0.00  \n",
       "136759          3061.75  \n",
       "48928              0.00  \n",
       "230282             0.00  \n",
       "...                 ...  \n",
       "372378          5430.04  \n",
       "4771               0.00  \n",
       "284107             0.00  \n",
       "165832             0.00  \n",
       "356254             0.00  \n",
       "\n",
       "[298344 rows x 11 columns]"
      ]
     },
     "execution_count": 400,
     "metadata": {},
     "output_type": "execute_result"
    }
   ],
   "source": [
    "X_train_1"
   ]
  },
  {
   "cell_type": "code",
   "execution_count": 404,
   "metadata": {},
   "outputs": [
    {
     "data": {
      "text/html": [
       "<div>\n",
       "<style scoped>\n",
       "    .dataframe tbody tr th:only-of-type {\n",
       "        vertical-align: middle;\n",
       "    }\n",
       "\n",
       "    .dataframe tbody tr th {\n",
       "        vertical-align: top;\n",
       "    }\n",
       "\n",
       "    .dataframe thead th {\n",
       "        text-align: right;\n",
       "    }\n",
       "</style>\n",
       "<table border=\"1\" class=\"dataframe\">\n",
       "  <thead>\n",
       "    <tr style=\"text-align: right;\">\n",
       "      <th></th>\n",
       "      <th>content_score</th>\n",
       "      <th>n_images</th>\n",
       "      <th>distance_to_center</th>\n",
       "      <th>avg_rating</th>\n",
       "      <th>stars</th>\n",
       "      <th>n_reviews</th>\n",
       "      <th>avg_rank</th>\n",
       "      <th>avg_price</th>\n",
       "      <th>avg_saving_percent</th>\n",
       "      <th>count</th>\n",
       "    </tr>\n",
       "  </thead>\n",
       "  <tbody>\n",
       "    <tr>\n",
       "      <th>0</th>\n",
       "      <td>58.0</td>\n",
       "      <td>2.0</td>\n",
       "      <td>11503.0</td>\n",
       "      <td>89.0</td>\n",
       "      <td>0.0</td>\n",
       "      <td>168.0</td>\n",
       "      <td>13.500</td>\n",
       "      <td>90.19</td>\n",
       "      <td>32.0</td>\n",
       "      <td>12.0</td>\n",
       "    </tr>\n",
       "    <tr>\n",
       "      <th>1</th>\n",
       "      <td>68.0</td>\n",
       "      <td>4.0</td>\n",
       "      <td>938.0</td>\n",
       "      <td>81.0</td>\n",
       "      <td>5.0</td>\n",
       "      <td>735.0</td>\n",
       "      <td>13.667</td>\n",
       "      <td>98.27</td>\n",
       "      <td>19.0</td>\n",
       "      <td>2.0</td>\n",
       "    </tr>\n",
       "    <tr>\n",
       "      <th>2</th>\n",
       "      <td>19.0</td>\n",
       "      <td>0.0</td>\n",
       "      <td>38982.0</td>\n",
       "      <td>0.0</td>\n",
       "      <td>0.0</td>\n",
       "      <td>0.0</td>\n",
       "      <td>20.462</td>\n",
       "      <td>48.77</td>\n",
       "      <td>0.0</td>\n",
       "      <td>49.0</td>\n",
       "    </tr>\n",
       "    <tr>\n",
       "      <th>3</th>\n",
       "      <td>47.0</td>\n",
       "      <td>0.0</td>\n",
       "      <td>1683.0</td>\n",
       "      <td>80.0</td>\n",
       "      <td>0.0</td>\n",
       "      <td>69.0</td>\n",
       "      <td>15.000</td>\n",
       "      <td>72.32</td>\n",
       "      <td>0.0</td>\n",
       "      <td>231.0</td>\n",
       "    </tr>\n",
       "    <tr>\n",
       "      <th>4</th>\n",
       "      <td>59.0</td>\n",
       "      <td>3.0</td>\n",
       "      <td>1299.0</td>\n",
       "      <td>80.0</td>\n",
       "      <td>3.0</td>\n",
       "      <td>1470.0</td>\n",
       "      <td>10.000</td>\n",
       "      <td>24.54</td>\n",
       "      <td>19.0</td>\n",
       "      <td>7.0</td>\n",
       "    </tr>\n",
       "    <tr>\n",
       "      <th>...</th>\n",
       "      <td>...</td>\n",
       "      <td>...</td>\n",
       "      <td>...</td>\n",
       "      <td>...</td>\n",
       "      <td>...</td>\n",
       "      <td>...</td>\n",
       "      <td>...</td>\n",
       "      <td>...</td>\n",
       "      <td>...</td>\n",
       "      <td>...</td>\n",
       "    </tr>\n",
       "    <tr>\n",
       "      <th>130813</th>\n",
       "      <td>47.0</td>\n",
       "      <td>0.0</td>\n",
       "      <td>3259.0</td>\n",
       "      <td>84.0</td>\n",
       "      <td>0.0</td>\n",
       "      <td>138.0</td>\n",
       "      <td>14.280</td>\n",
       "      <td>48.83</td>\n",
       "      <td>0.0</td>\n",
       "      <td>9.0</td>\n",
       "    </tr>\n",
       "    <tr>\n",
       "      <th>130814</th>\n",
       "      <td>50.0</td>\n",
       "      <td>0.0</td>\n",
       "      <td>5032.0</td>\n",
       "      <td>86.0</td>\n",
       "      <td>0.0</td>\n",
       "      <td>996.0</td>\n",
       "      <td>7.000</td>\n",
       "      <td>32.46</td>\n",
       "      <td>4.0</td>\n",
       "      <td>5.0</td>\n",
       "    </tr>\n",
       "    <tr>\n",
       "      <th>130815</th>\n",
       "      <td>62.0</td>\n",
       "      <td>0.0</td>\n",
       "      <td>1666.0</td>\n",
       "      <td>79.0</td>\n",
       "      <td>0.0</td>\n",
       "      <td>102.0</td>\n",
       "      <td>17.600</td>\n",
       "      <td>113.39</td>\n",
       "      <td>19.0</td>\n",
       "      <td>5.0</td>\n",
       "    </tr>\n",
       "    <tr>\n",
       "      <th>130816</th>\n",
       "      <td>51.0</td>\n",
       "      <td>1.0</td>\n",
       "      <td>521.0</td>\n",
       "      <td>85.0</td>\n",
       "      <td>3.0</td>\n",
       "      <td>324.0</td>\n",
       "      <td>18.925</td>\n",
       "      <td>85.63</td>\n",
       "      <td>0.0</td>\n",
       "      <td>119.0</td>\n",
       "    </tr>\n",
       "    <tr>\n",
       "      <th>130817</th>\n",
       "      <td>54.0</td>\n",
       "      <td>2.0</td>\n",
       "      <td>1503.0</td>\n",
       "      <td>85.0</td>\n",
       "      <td>0.0</td>\n",
       "      <td>357.0</td>\n",
       "      <td>10.515</td>\n",
       "      <td>57.84</td>\n",
       "      <td>0.0</td>\n",
       "      <td>23.0</td>\n",
       "    </tr>\n",
       "  </tbody>\n",
       "</table>\n",
       "<p>130818 rows × 10 columns</p>\n",
       "</div>"
      ],
      "text/plain": [
       "        content_score  n_images  distance_to_center  avg_rating  stars  \\\n",
       "0                58.0       2.0             11503.0        89.0    0.0   \n",
       "1                68.0       4.0               938.0        81.0    5.0   \n",
       "2                19.0       0.0             38982.0         0.0    0.0   \n",
       "3                47.0       0.0              1683.0        80.0    0.0   \n",
       "4                59.0       3.0              1299.0        80.0    3.0   \n",
       "...               ...       ...                 ...         ...    ...   \n",
       "130813           47.0       0.0              3259.0        84.0    0.0   \n",
       "130814           50.0       0.0              5032.0        86.0    0.0   \n",
       "130815           62.0       0.0              1666.0        79.0    0.0   \n",
       "130816           51.0       1.0               521.0        85.0    3.0   \n",
       "130817           54.0       2.0              1503.0        85.0    0.0   \n",
       "\n",
       "        n_reviews  avg_rank  avg_price  avg_saving_percent  count  \n",
       "0           168.0    13.500      90.19                32.0   12.0  \n",
       "1           735.0    13.667      98.27                19.0    2.0  \n",
       "2             0.0    20.462      48.77                 0.0   49.0  \n",
       "3            69.0    15.000      72.32                 0.0  231.0  \n",
       "4          1470.0    10.000      24.54                19.0    7.0  \n",
       "...           ...       ...        ...                 ...    ...  \n",
       "130813      138.0    14.280      48.83                 0.0    9.0  \n",
       "130814      996.0     7.000      32.46                 4.0    5.0  \n",
       "130815      102.0    17.600     113.39                19.0    5.0  \n",
       "130816      324.0    18.925      85.63                 0.0  119.0  \n",
       "130817      357.0    10.515      57.84                 0.0   23.0  \n",
       "\n",
       "[130818 rows x 10 columns]"
      ]
     },
     "execution_count": 404,
     "metadata": {},
     "output_type": "execute_result"
    }
   ],
   "source": [
    "X_test.drop(columns= ['hotel_id'])"
   ]
  }
 ],
 "metadata": {
  "kernelspec": {
   "display_name": "Python 3",
   "language": "python",
   "name": "python3"
  },
  "language_info": {
   "codemirror_mode": {
    "name": "ipython",
    "version": 3
   },
   "file_extension": ".py",
   "mimetype": "text/x-python",
   "name": "python",
   "nbconvert_exporter": "python",
   "pygments_lexer": "ipython3",
   "version": "3.8.3"
  }
 },
 "nbformat": 4,
 "nbformat_minor": 4
}
