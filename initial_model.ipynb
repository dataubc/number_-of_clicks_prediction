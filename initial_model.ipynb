{
 "cells": [
  {
   "cell_type": "markdown",
   "metadata": {},
   "source": [
    "### Number of clicks prediction\n",
    "---"
   ]
  },
  {
   "cell_type": "code",
   "execution_count": 1,
   "metadata": {},
   "outputs": [
    {
     "name": "stderr",
     "output_type": "stream",
     "text": [
      "/Users/mosal/opt/anaconda3/lib/python3.8/site-packages/sklearn/utils/deprecation.py:143: FutureWarning: The sklearn.metrics.scorer module is  deprecated in version 0.22 and will be removed in version 0.24. The corresponding classes / functions should instead be imported from sklearn.metrics. Anything that cannot be imported from sklearn.metrics is now part of the private API.\n",
      "  warnings.warn(message, FutureWarning)\n"
     ]
    }
   ],
   "source": [
    "import pandas as pd\n",
    "import numpy as np\n",
    "import requests\n",
    "from io import StringIO\n",
    "\n",
    "import matplotlib.pyplot as plt\n",
    "from sklearn.model_selection import train_test_split, GridSearchCV\n",
    "from sklearn.ensemble import RandomForestClassifier, AdaBoostRegressor,  BaggingRegressor, ExtraTreesRegressor, GradientBoostingRegressor, RandomForestRegressor\n",
    "from sklearn.preprocessing import OneHotEncoder, StandardScaler, MaxAbsScaler\n",
    "from sklearn.compose import ColumnTransformer\n",
    "from sklearn.pipeline import Pipeline\n",
    "from sklearn.impute import SimpleImputer\n",
    "from sklearn.metrics import mean_squared_error\n",
    "from sklearn.base import clone, TransformerMixin\n",
    "from sklearn.metrics.scorer import make_scorer\n",
    "from sklearn.model_selection import KFold\n",
    "import time\n",
    "import pickle\n",
    "from pandas.plotting import scatter_matrix\n",
    "from sklearn.linear_model import Ridge\n",
    "from sklearn.linear_model import RidgeCV\n",
    "from sklearn.neighbors import KNeighborsRegressor\n",
    "from sklearn.preprocessing import PolynomialFeatures\n",
    "from sklearn.linear_model import SGDRegressor\n",
    "from xgboost import XGBRegressor"
   ]
  },
  {
   "cell_type": "code",
   "execution_count": 3,
   "metadata": {},
   "outputs": [
    {
     "data": {
      "text/html": [
       "<div>\n",
       "<style scoped>\n",
       "    .dataframe tbody tr th:only-of-type {\n",
       "        vertical-align: middle;\n",
       "    }\n",
       "\n",
       "    .dataframe tbody tr th {\n",
       "        vertical-align: top;\n",
       "    }\n",
       "\n",
       "    .dataframe thead th {\n",
       "        text-align: right;\n",
       "    }\n",
       "</style>\n",
       "<table border=\"1\" class=\"dataframe\">\n",
       "  <thead>\n",
       "    <tr style=\"text-align: right;\">\n",
       "      <th></th>\n",
       "      <th>content_score</th>\n",
       "      <th>n_images</th>\n",
       "      <th>distance_to_center</th>\n",
       "      <th>avg_rating</th>\n",
       "      <th>stars</th>\n",
       "      <th>n_reviews</th>\n",
       "      <th>avg_rank</th>\n",
       "      <th>avg_price</th>\n",
       "      <th>avg_saving_percent</th>\n",
       "      <th>n_clicks</th>\n",
       "      <th>...</th>\n",
       "      <th>city_id_878630.0</th>\n",
       "      <th>city_id_878634.0</th>\n",
       "      <th>city_id_878644.0</th>\n",
       "      <th>city_id_878652.0</th>\n",
       "      <th>city_id_878668.0</th>\n",
       "      <th>city_id_878678.0</th>\n",
       "      <th>city_id_878696.0</th>\n",
       "      <th>city_id_878704.0</th>\n",
       "      <th>city_id_878708.0</th>\n",
       "      <th>city_id_878736.0</th>\n",
       "    </tr>\n",
       "  </thead>\n",
       "  <tbody>\n",
       "    <tr>\n",
       "      <th>0</th>\n",
       "      <td>70.0</td>\n",
       "      <td>2.0</td>\n",
       "      <td>1199.0</td>\n",
       "      <td>77.0</td>\n",
       "      <td>4.0</td>\n",
       "      <td>861.0</td>\n",
       "      <td>17.550</td>\n",
       "      <td>81.64</td>\n",
       "      <td>18.0</td>\n",
       "      <td>0.0</td>\n",
       "      <td>...</td>\n",
       "      <td>0</td>\n",
       "      <td>0</td>\n",
       "      <td>0</td>\n",
       "      <td>0</td>\n",
       "      <td>0</td>\n",
       "      <td>0</td>\n",
       "      <td>0</td>\n",
       "      <td>0</td>\n",
       "      <td>0</td>\n",
       "      <td>0</td>\n",
       "    </tr>\n",
       "    <tr>\n",
       "      <th>1</th>\n",
       "      <td>67.0</td>\n",
       "      <td>3.0</td>\n",
       "      <td>12585.0</td>\n",
       "      <td>90.0</td>\n",
       "      <td>4.0</td>\n",
       "      <td>4371.0</td>\n",
       "      <td>17.383</td>\n",
       "      <td>189.38</td>\n",
       "      <td>28.0</td>\n",
       "      <td>4.0</td>\n",
       "      <td>...</td>\n",
       "      <td>0</td>\n",
       "      <td>0</td>\n",
       "      <td>0</td>\n",
       "      <td>0</td>\n",
       "      <td>0</td>\n",
       "      <td>0</td>\n",
       "      <td>0</td>\n",
       "      <td>0</td>\n",
       "      <td>0</td>\n",
       "      <td>0</td>\n",
       "    </tr>\n",
       "    <tr>\n",
       "      <th>3</th>\n",
       "      <td>59.0</td>\n",
       "      <td>8.0</td>\n",
       "      <td>3291.0</td>\n",
       "      <td>73.0</td>\n",
       "      <td>2.0</td>\n",
       "      <td>3084.0</td>\n",
       "      <td>7.000</td>\n",
       "      <td>72.16</td>\n",
       "      <td>2.0</td>\n",
       "      <td>4.0</td>\n",
       "      <td>...</td>\n",
       "      <td>0</td>\n",
       "      <td>0</td>\n",
       "      <td>0</td>\n",
       "      <td>0</td>\n",
       "      <td>0</td>\n",
       "      <td>0</td>\n",
       "      <td>0</td>\n",
       "      <td>0</td>\n",
       "      <td>0</td>\n",
       "      <td>0</td>\n",
       "    </tr>\n",
       "    <tr>\n",
       "      <th>4</th>\n",
       "      <td>66.0</td>\n",
       "      <td>1.0</td>\n",
       "      <td>288.0</td>\n",
       "      <td>80.0</td>\n",
       "      <td>0.0</td>\n",
       "      <td>603.0</td>\n",
       "      <td>12.564</td>\n",
       "      <td>173.25</td>\n",
       "      <td>0.0</td>\n",
       "      <td>10.0</td>\n",
       "      <td>...</td>\n",
       "      <td>0</td>\n",
       "      <td>0</td>\n",
       "      <td>0</td>\n",
       "      <td>0</td>\n",
       "      <td>0</td>\n",
       "      <td>0</td>\n",
       "      <td>0</td>\n",
       "      <td>0</td>\n",
       "      <td>0</td>\n",
       "      <td>0</td>\n",
       "    </tr>\n",
       "    <tr>\n",
       "      <th>5</th>\n",
       "      <td>58.0</td>\n",
       "      <td>2.0</td>\n",
       "      <td>1249.0</td>\n",
       "      <td>87.0</td>\n",
       "      <td>0.0</td>\n",
       "      <td>1683.0</td>\n",
       "      <td>18.391</td>\n",
       "      <td>96.70</td>\n",
       "      <td>0.0</td>\n",
       "      <td>0.0</td>\n",
       "      <td>...</td>\n",
       "      <td>0</td>\n",
       "      <td>0</td>\n",
       "      <td>0</td>\n",
       "      <td>0</td>\n",
       "      <td>0</td>\n",
       "      <td>0</td>\n",
       "      <td>0</td>\n",
       "      <td>0</td>\n",
       "      <td>0</td>\n",
       "      <td>0</td>\n",
       "    </tr>\n",
       "  </tbody>\n",
       "</table>\n",
       "<p>5 rows × 33223 columns</p>\n",
       "</div>"
      ],
      "text/plain": [
       "   content_score  n_images  distance_to_center  avg_rating  stars  n_reviews  \\\n",
       "0           70.0       2.0              1199.0        77.0    4.0      861.0   \n",
       "1           67.0       3.0             12585.0        90.0    4.0     4371.0   \n",
       "3           59.0       8.0              3291.0        73.0    2.0     3084.0   \n",
       "4           66.0       1.0               288.0        80.0    0.0      603.0   \n",
       "5           58.0       2.0              1249.0        87.0    0.0     1683.0   \n",
       "\n",
       "   avg_rank  avg_price  avg_saving_percent  n_clicks  ...  city_id_878630.0  \\\n",
       "0    17.550      81.64                18.0       0.0  ...                 0   \n",
       "1    17.383     189.38                28.0       4.0  ...                 0   \n",
       "3     7.000      72.16                 2.0       4.0  ...                 0   \n",
       "4    12.564     173.25                 0.0      10.0  ...                 0   \n",
       "5    18.391      96.70                 0.0       0.0  ...                 0   \n",
       "\n",
       "   city_id_878634.0  city_id_878644.0  city_id_878652.0  city_id_878668.0  \\\n",
       "0                 0                 0                 0                 0   \n",
       "1                 0                 0                 0                 0   \n",
       "3                 0                 0                 0                 0   \n",
       "4                 0                 0                 0                 0   \n",
       "5                 0                 0                 0                 0   \n",
       "\n",
       "   city_id_878678.0  city_id_878696.0  city_id_878704.0  city_id_878708.0  \\\n",
       "0                 0                 0                 0                 0   \n",
       "1                 0                 0                 0                 0   \n",
       "3                 0                 0                 0                 0   \n",
       "4                 0                 0                 0                 0   \n",
       "5                 0                 0                 0                 0   \n",
       "\n",
       "   city_id_878736.0  \n",
       "0                 0  \n",
       "1                 0  \n",
       "3                 0  \n",
       "4                 0  \n",
       "5                 0  \n",
       "\n",
       "[5 rows x 33223 columns]"
      ]
     },
     "execution_count": 3,
     "metadata": {},
     "output_type": "execute_result"
    }
   ],
   "source": [
    "hotel_data = pd.read_pickle('cleaned.pkl')\n",
    "hotel_data.head()"
   ]
  },
  {
   "cell_type": "markdown",
   "metadata": {},
   "source": [
    "#### Initial Modeling"
   ]
  },
  {
   "cell_type": "code",
   "execution_count": 4,
   "metadata": {},
   "outputs": [],
   "source": [
    "# for our initial model we will just drop the rows that have nans, this is initial approach, we will later deal with how to fill those nans\n",
    "initial_model_data = hotel_data.copy()\n",
    "\n",
    "y_inital_model= initial_model_data['n_clicks']\n",
    "X_initial_model = initial_model_data.drop(columns = ['n_clicks'])"
   ]
  },
  {
   "cell_type": "code",
   "execution_count": 6,
   "metadata": {},
   "outputs": [],
   "source": [
    "X_train, X_test, y_train, y_test = train_test_split(X_initial_model,y_inital_model,test_size = 0.2, random_state = 2020)"
   ]
  },
  {
   "cell_type": "code",
   "execution_count": 7,
   "metadata": {},
   "outputs": [],
   "source": [
    "# To create a pipeline we need to specify that columns we want to prepoces"
   ]
  },
  {
   "cell_type": "code",
   "execution_count": 5,
   "metadata": {},
   "outputs": [
    {
     "ename": "NameError",
     "evalue": "name 'X_train' is not defined",
     "output_type": "error",
     "traceback": [
      "\u001b[0;31m---------------------------------------------------------------------------\u001b[0m",
      "\u001b[0;31mNameError\u001b[0m                                 Traceback (most recent call last)",
      "\u001b[0;32m<ipython-input-5-8ee2a4896f54>\u001b[0m in \u001b[0;36m<module>\u001b[0;34m\u001b[0m\n\u001b[0;32m----> 1\u001b[0;31m \u001b[0mnumerical_cols\u001b[0m \u001b[0;34m=\u001b[0m \u001b[0mlist\u001b[0m\u001b[0;34m(\u001b[0m\u001b[0mX_train\u001b[0m\u001b[0;34m.\u001b[0m\u001b[0mcolumns\u001b[0m\u001b[0;34m[\u001b[0m\u001b[0;34m:\u001b[0m\u001b[0;36m9\u001b[0m\u001b[0;34m]\u001b[0m\u001b[0;34m)\u001b[0m\u001b[0;34m\u001b[0m\u001b[0;34m\u001b[0m\u001b[0m\n\u001b[0m\u001b[1;32m      2\u001b[0m \u001b[0mnumerical_cols\u001b[0m\u001b[0;34m\u001b[0m\u001b[0;34m\u001b[0m\u001b[0m\n",
      "\u001b[0;31mNameError\u001b[0m: name 'X_train' is not defined"
     ]
    }
   ],
   "source": [
    "numerical_cols = list(X_train.columns[:9])\n",
    "numerical_cols"
   ]
  },
  {
   "cell_type": "code",
   "execution_count": 9,
   "metadata": {},
   "outputs": [],
   "source": [
    "numerical_transformer = Pipeline(steps = [('imputer',SimpleImputer()),\n",
    "                                         ('scaler',StandardScaler())\n",
    "                                         \n",
    "                                         \n",
    "                                        ])"
   ]
  },
  {
   "cell_type": "code",
   "execution_count": 10,
   "metadata": {},
   "outputs": [],
   "source": [
    "preprocessor = ColumnTransformer(transformers = [('num',numerical_transformer,numerical_cols)])\n",
    "\n"
   ]
  },
  {
   "cell_type": "markdown",
   "metadata": {},
   "source": [
    "### Baseline: Linear Model :\n",
    "Linear model are fast, and easy to build and interpret, we will start with Ridge model whicha apply linear regression with regularization\n"
   ]
  },
  {
   "cell_type": "code",
   "execution_count": 13,
   "metadata": {},
   "outputs": [],
   "source": [
    "reg = Pipeline(steps=[('preprocessor', preprocessor),\n",
    "                      ('regressor', RidgeCV(alphas=[1e-3, 1e-2, 1e-1,0.2,0.4,0.6,0.8, 1]))])"
   ]
  },
  {
   "cell_type": "code",
   "execution_count": 14,
   "metadata": {},
   "outputs": [
    {
     "name": "stdout",
     "output_type": "stream",
     "text": [
      "model score on training set =  0.1140293197510267\n",
      "model score on test set =  0.11193137467656533\n",
      "elapsed time =  0.4928619861602783\n",
      "MSE =  28.67729133190142\n"
     ]
    }
   ],
   "source": [
    "start_time = time.time()\n",
    "reg.fit(X_train,y_train)\n",
    "print('model score on training set = ',reg.score(X_train, y_train))\n",
    "print('model score on test set = ',reg.score(X_test, y_test))\n",
    "y_pred = reg.predict(X_test)\n",
    "elapsed_time = time.time() - start_time\n",
    "print('elapsed time = ',elapsed_time )\n",
    "print('MSE = ',mean_squared_error(y_test, y_pred))"
   ]
  },
  {
   "cell_type": "markdown",
   "metadata": {},
   "source": [
    "### Testing Models"
   ]
  },
  {
   "cell_type": "code",
   "execution_count": 9,
   "metadata": {},
   "outputs": [
    {
     "name": "stdout",
     "output_type": "stream",
     "text": [
      "Results for  SGDRegressor\n",
      "Training score =  0.1129600916843917\n",
      "Test score =  0.11090880631948974\n",
      "elapsed time for fitting  =  1.0046007633209229\n",
      "MSE =  28.710311855143033\n",
      "______________________________________________________\n",
      "Results for  Gradient Boost\n",
      "Training score =  0.21398156141352231\n",
      "Test score =  0.2109019065342218\n",
      "elapsed time for fitting  =  35.49871516227722\n",
      "MSE =  25.481359514896205\n",
      "______________________________________________________\n",
      "Results for  Random Forest\n",
      "Training score =  0.885254852220597\n",
      "Test score =  0.18821664050586462\n",
      "elapsed time for fitting  =  160.0541341304779\n",
      "MSE =  26.213906487378154\n",
      "______________________________________________________\n",
      "Results for  xgb\n",
      "Training score =  0.33790573991777506\n",
      "Test score =  0.2627092981409206\n",
      "elapsed time for fitting  =  6.909333944320679\n",
      "MSE =  23.808408101135683\n",
      "______________________________________________________\n"
     ]
    }
   ],
   "source": [
    "def get_models():\n",
    "    sgd = SGDRegressor(random_state=2020)\n",
    "    grad = GradientBoostingRegressor(random_state=2020)\n",
    "    rf =RandomForestRegressor(random_state=2020)\n",
    "    xgb = XGBRegressor()\n",
    "    classifier_list = [sgd, grad,rf,xgb]\n",
    "    classifier_name_list = ['SGDRegressor','Gradient Boost','Random Forest','xgb']\n",
    "    return classifier_list,classifier_name_list\n",
    "    \n",
    "classifier_list, classifier_name_list = get_models()\n",
    "\n",
    "for classifier,classifier_name in zip(classifier_list,classifier_name_list):\n",
    "    regressor_pipeline = Pipeline(steps = [('preprocessor',preprocessor),\n",
    "                                      ('regressor',classifier)])\n",
    "    start_time = time.time()\n",
    "    regressor_pipeline.fit(X_train,y_train)\n",
    "    print('Results for ',classifier_name)\n",
    "    print('Training score = ',regressor_pipeline.score(X_train,y_train))\n",
    "    print('Test score = ',regressor_pipeline.score(X_test,y_test))\n",
    "    y_pred = regressor_pipeline.predict(X_test)\n",
    "    elapsed_time = time.time() - start_time\n",
    "    print('elapsed time = ',elapsed_time )\n",
    "    print('MSE = ',mean_squared_error(y_test, y_pred))\n",
    "    print('______________________________________________________')\n"
   ]
  },
  {
   "cell_type": "markdown",
   "metadata": {},
   "source": [
    " #### According to this results,we have the following observations :\n",
    "- Linear Regression SGDRegressor have the fastest models but also have the lowest accuracy\n",
    "- Gradient Boost model has the a bias issues, while random forest has a variance issues.\n",
    "- XGBRegressor seems to be the most promsing in terms of MSE."
   ]
  },
  {
   "cell_type": "markdown",
   "metadata": {},
   "source": [
    "### Model Improvements"
   ]
  }
 ],
 "metadata": {
  "kernelspec": {
   "display_name": "Python 3",
   "language": "python",
   "name": "python3"
  },
  "language_info": {
   "codemirror_mode": {
    "name": "ipython",
    "version": 3
   },
   "file_extension": ".py",
   "mimetype": "text/x-python",
   "name": "python",
   "nbconvert_exporter": "python",
   "pygments_lexer": "ipython3",
   "version": "3.8.3"
  }
 },
 "nbformat": 4,
 "nbformat_minor": 4
}
